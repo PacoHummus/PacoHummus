{
  "nbformat": 4,
  "nbformat_minor": 0,
  "metadata": {
    "colab": {
      "provenance": [],
      "authorship_tag": "ABX9TyNDGAslD/LjZ7TgnOZy9s3Q",
      "include_colab_link": true
    },
    "kernelspec": {
      "name": "python3",
      "display_name": "Python 3"
    },
    "language_info": {
      "name": "python"
    }
  },
  "cells": [
    {
      "cell_type": "markdown",
      "metadata": {
        "id": "view-in-github",
        "colab_type": "text"
      },
      "source": [
        "<a href=\"https://colab.research.google.com/github/PacoHummus/PacoHummus/blob/main/Taller_2.ipynb\" target=\"_parent\"><img src=\"https://colab.research.google.com/assets/colab-badge.svg\" alt=\"Open In Colab\"/></a>"
      ]
    },
    {
      "cell_type": "code",
      "execution_count": 4,
      "metadata": {
        "colab": {
          "base_uri": "https://localhost:8080/"
        },
        "id": "zriit8CLJUcz",
        "outputId": "4e474030-9a9d-4d92-97f5-207b1c289ade"
      },
      "outputs": [
        {
          "output_type": "stream",
          "name": "stdout",
          "text": [
            "Reading package lists... Done\n",
            "Building dependency tree... Done\n",
            "Reading state information... Done\n",
            "nasm is already the newest version (2.15.05-1).\n",
            "0 upgraded, 0 newly installed, 0 to remove and 35 not upgraded.\n"
          ]
        }
      ],
      "source": [
        "!sudo apt-get install -y nasm"
      ]
    },
    {
      "cell_type": "code",
      "source": [
        "!nasm"
      ],
      "metadata": {
        "colab": {
          "base_uri": "https://localhost:8080/"
        },
        "id": "pddaIT1bJ1Vo",
        "outputId": "6e57485e-aafe-4933-c14d-7a2cd808e108"
      },
      "execution_count": 5,
      "outputs": [
        {
          "output_type": "stream",
          "name": "stdout",
          "text": [
            "nasm: fatal: no input file specified\n",
            "Type nasm -h for help.\n"
          ]
        }
      ]
    },
    {
      "cell_type": "code",
      "source": [
        "!touch toUpper.asm"
      ],
      "metadata": {
        "id": "JeWtsPqyJ9X3"
      },
      "execution_count": 6,
      "outputs": []
    },
    {
      "cell_type": "code",
      "source": [
        "!touch makefile"
      ],
      "metadata": {
        "id": "7a9BH8MpKep_"
      },
      "execution_count": 7,
      "outputs": []
    },
    {
      "cell_type": "code",
      "source": [
        "!touch main.c"
      ],
      "metadata": {
        "id": "30AOPxLEKiH_"
      },
      "execution_count": 8,
      "outputs": []
    },
    {
      "cell_type": "code",
      "source": [
        "!make all"
      ],
      "metadata": {
        "colab": {
          "base_uri": "https://localhost:8080/"
        },
        "id": "KnVA1JCwVQK5",
        "outputId": "fbc293a0-8b2a-4e15-c6f7-212afbcad4ff"
      },
      "execution_count": 9,
      "outputs": [
        {
          "output_type": "stream",
          "name": "stdout",
          "text": [
            "Compilando el codigo C...\n",
            "gcc -Wall -c main.c\n",
            "Ensamblando el codigo ASM...\n",
            "nasm -f elf64 toUpper.asm -o toUpper.o \n",
            "Enlazando los objetos para crear el ejecutable...\n",
            "gcc -no-pie -o toUpper.bin main.o toUpper.o\n"
          ]
        }
      ]
    },
    {
      "cell_type": "code",
      "source": [
        "!./toUpper.bin"
      ],
      "metadata": {
        "colab": {
          "base_uri": "https://localhost:8080/"
        },
        "id": "6bDM-A78VTHw",
        "outputId": "77566aaa-55bf-416d-975b-62afd82077b7"
      },
      "execution_count": 11,
      "outputs": [
        {
          "output_type": "stream",
          "name": "stdout",
          "text": [
            "Menu de Conversion ASCII:\n",
            "1. Convertir minusculas a mayusculas\n",
            "2. Salir\n",
            "Seleccione una opcion: 1\n",
            "\n",
            "Ingrese la cadena a convertir: hola mundo\n",
            "\n",
            "Resultado: HOLA MUNDO\n",
            "\n",
            "Menu de Conversion ASCII:\n",
            "1. Convertir minusculas a mayusculas\n",
            "2. Salir\n",
            "Seleccione una opcion: 2\n",
            "\n"
          ]
        }
      ]
    }
  ]
}